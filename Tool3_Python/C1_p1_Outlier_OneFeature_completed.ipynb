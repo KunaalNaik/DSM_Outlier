{
 "cells": [
  {
   "cell_type": "markdown",
   "id": "b64e53ad-4019-4b5f-a3f1-d856cb886081",
   "metadata": {},
   "source": [
    "# Objectives\n",
    "1. Use Excel to visually identify Outliers in one Feature\n",
    "    - Transform using Excel\n",
    "2. Use Python Pandas to Identify and treat One Numerical Features\n",
    "3. Next Video: Treat All Numerical features with Outliers"
   ]
  },
  {
   "cell_type": "markdown",
   "id": "a9e33e2a-71a2-4eff-82cd-af6647299bb5",
   "metadata": {},
   "source": [
    "## Links\n",
    "- **Outlier Video** - \n",
    "- **Missing Values Video** - https://www.youtube.com/watch?v=pZ8uM_p-pAQ"
   ]
  },
  {
   "cell_type": "markdown",
   "id": "6264a059-a0fc-4d9c-b42e-1c1acc060756",
   "metadata": {},
   "source": [
    "# Import Python Packages"
   ]
  },
  {
   "cell_type": "code",
   "execution_count": 13,
   "id": "7943e186-be1c-4a39-acba-0e86822611f7",
   "metadata": {},
   "outputs": [],
   "source": [
    "import pandas as pd\n",
    "import numpy as np"
   ]
  },
  {
   "cell_type": "markdown",
   "id": "fcead687-12ee-4f57-a7b4-c2a13c1c394e",
   "metadata": {},
   "source": [
    "# Import Data"
   ]
  },
  {
   "cell_type": "code",
   "execution_count": 14,
   "id": "0543d627-b5b0-43a1-b6a7-eeae3ac2b4bd",
   "metadata": {},
   "outputs": [],
   "source": [
    "train = pd.read_csv('../../DSM_data/data_source1/input/p1_classification_no_missing_train.csv')\n",
    "test = pd.read_csv('../../DSM_data/data_source1/input/p1_classification_no_missing_test.csv')"
   ]
  },
  {
   "cell_type": "markdown",
   "id": "04a7f888-5bce-4c66-914b-2d09dfca99a7",
   "metadata": {},
   "source": [
    "### Check Data"
   ]
  },
  {
   "cell_type": "code",
   "execution_count": 15,
   "id": "9a8476e5-31e9-4522-a7d5-4bfbde5960d3",
   "metadata": {},
   "outputs": [
    {
     "name": "stdout",
     "output_type": "stream",
     "text": [
      "<class 'pandas.core.frame.DataFrame'>\n",
      "RangeIndex: 54808 entries, 0 to 54807\n",
      "Data columns (total 14 columns):\n",
      " #   Column                Non-Null Count  Dtype  \n",
      "---  ------                --------------  -----  \n",
      " 0   employee_id           54808 non-null  int64  \n",
      " 1   is_promoted           54808 non-null  int64  \n",
      " 2   department            54808 non-null  object \n",
      " 3   region                54808 non-null  object \n",
      " 4   education             54808 non-null  object \n",
      " 5   gender                54808 non-null  object \n",
      " 6   recruitment_channel   54808 non-null  object \n",
      " 7   no_of_trainings       54808 non-null  float64\n",
      " 8   age                   54808 non-null  float64\n",
      " 9   previous_year_rating  54808 non-null  float64\n",
      " 10  length_of_service     54808 non-null  float64\n",
      " 11  KPIs_met >80%         54808 non-null  float64\n",
      " 12  awards_won?           54808 non-null  float64\n",
      " 13  avg_training_score    54808 non-null  float64\n",
      "dtypes: float64(7), int64(2), object(5)\n",
      "memory usage: 5.9+ MB\n"
     ]
    }
   ],
   "source": [
    "train.info()"
   ]
  },
  {
   "cell_type": "code",
   "execution_count": 16,
   "id": "06e02b36-a4fe-4697-8c00-118f2397bc40",
   "metadata": {},
   "outputs": [
    {
     "name": "stdout",
     "output_type": "stream",
     "text": [
      "<class 'pandas.core.frame.DataFrame'>\n",
      "RangeIndex: 23490 entries, 0 to 23489\n",
      "Data columns (total 13 columns):\n",
      " #   Column                Non-Null Count  Dtype  \n",
      "---  ------                --------------  -----  \n",
      " 0   employee_id           23490 non-null  int64  \n",
      " 1   department            23490 non-null  object \n",
      " 2   region                23490 non-null  object \n",
      " 3   education             23490 non-null  object \n",
      " 4   gender                23490 non-null  object \n",
      " 5   recruitment_channel   23490 non-null  object \n",
      " 6   no_of_trainings       23490 non-null  float64\n",
      " 7   age                   23490 non-null  float64\n",
      " 8   previous_year_rating  23490 non-null  float64\n",
      " 9   length_of_service     23490 non-null  float64\n",
      " 10  KPIs_met >80%         23490 non-null  float64\n",
      " 11  awards_won?           23490 non-null  float64\n",
      " 12  avg_training_score    23490 non-null  float64\n",
      "dtypes: float64(7), int64(1), object(5)\n",
      "memory usage: 2.3+ MB\n"
     ]
    }
   ],
   "source": [
    "test.info()"
   ]
  },
  {
   "cell_type": "markdown",
   "id": "8399a76e-f9f5-4709-ab71-32bbe24726a4",
   "metadata": {},
   "source": [
    "# Identify Features and Transform"
   ]
  },
  {
   "cell_type": "markdown",
   "id": "ea1ae64f-c08e-416e-ac2a-5165b6f4dd20",
   "metadata": {},
   "source": [
    "## Identify and Treat 1 Feature"
   ]
  },
  {
   "cell_type": "markdown",
   "id": "72409f1c-360d-4409-a647-ba6b5238f4bf",
   "metadata": {},
   "source": [
    "### Find 1 Feature to Remove Outlier"
   ]
  },
  {
   "cell_type": "code",
   "execution_count": 17,
   "id": "eee04425-184e-46e1-ba36-46b4b9b981a8",
   "metadata": {},
   "outputs": [
    {
     "data": {
      "text/html": [
       "<div>\n",
       "<style scoped>\n",
       "    .dataframe tbody tr th:only-of-type {\n",
       "        vertical-align: middle;\n",
       "    }\n",
       "\n",
       "    .dataframe tbody tr th {\n",
       "        vertical-align: top;\n",
       "    }\n",
       "\n",
       "    .dataframe thead th {\n",
       "        text-align: right;\n",
       "    }\n",
       "</style>\n",
       "<table border=\"1\" class=\"dataframe\">\n",
       "  <thead>\n",
       "    <tr style=\"text-align: right;\">\n",
       "      <th></th>\n",
       "      <th>employee_id</th>\n",
       "      <th>is_promoted</th>\n",
       "      <th>no_of_trainings</th>\n",
       "      <th>age</th>\n",
       "      <th>previous_year_rating</th>\n",
       "      <th>length_of_service</th>\n",
       "      <th>KPIs_met &gt;80%</th>\n",
       "      <th>awards_won?</th>\n",
       "      <th>avg_training_score</th>\n",
       "    </tr>\n",
       "  </thead>\n",
       "  <tbody>\n",
       "    <tr>\n",
       "      <th>count</th>\n",
       "      <td>54808.000000</td>\n",
       "      <td>54808.000000</td>\n",
       "      <td>54808.000000</td>\n",
       "      <td>54808.000000</td>\n",
       "      <td>54808.000000</td>\n",
       "      <td>54808.000000</td>\n",
       "      <td>54808.000000</td>\n",
       "      <td>54808.000000</td>\n",
       "      <td>54808.000000</td>\n",
       "    </tr>\n",
       "    <tr>\n",
       "      <th>mean</th>\n",
       "      <td>39195.830627</td>\n",
       "      <td>0.085170</td>\n",
       "      <td>1.253011</td>\n",
       "      <td>34.803915</td>\n",
       "      <td>3.304481</td>\n",
       "      <td>5.865512</td>\n",
       "      <td>0.351974</td>\n",
       "      <td>0.023172</td>\n",
       "      <td>63.386750</td>\n",
       "    </tr>\n",
       "    <tr>\n",
       "      <th>std</th>\n",
       "      <td>22586.581449</td>\n",
       "      <td>0.279137</td>\n",
       "      <td>0.609264</td>\n",
       "      <td>7.660169</td>\n",
       "      <td>1.214770</td>\n",
       "      <td>4.265094</td>\n",
       "      <td>0.477590</td>\n",
       "      <td>0.150450</td>\n",
       "      <td>13.371559</td>\n",
       "    </tr>\n",
       "    <tr>\n",
       "      <th>min</th>\n",
       "      <td>1.000000</td>\n",
       "      <td>0.000000</td>\n",
       "      <td>1.000000</td>\n",
       "      <td>20.000000</td>\n",
       "      <td>1.000000</td>\n",
       "      <td>1.000000</td>\n",
       "      <td>0.000000</td>\n",
       "      <td>0.000000</td>\n",
       "      <td>39.000000</td>\n",
       "    </tr>\n",
       "    <tr>\n",
       "      <th>25%</th>\n",
       "      <td>19669.750000</td>\n",
       "      <td>0.000000</td>\n",
       "      <td>1.000000</td>\n",
       "      <td>29.000000</td>\n",
       "      <td>3.000000</td>\n",
       "      <td>3.000000</td>\n",
       "      <td>0.000000</td>\n",
       "      <td>0.000000</td>\n",
       "      <td>51.000000</td>\n",
       "    </tr>\n",
       "    <tr>\n",
       "      <th>50%</th>\n",
       "      <td>39225.500000</td>\n",
       "      <td>0.000000</td>\n",
       "      <td>1.000000</td>\n",
       "      <td>33.000000</td>\n",
       "      <td>3.000000</td>\n",
       "      <td>5.000000</td>\n",
       "      <td>0.000000</td>\n",
       "      <td>0.000000</td>\n",
       "      <td>60.000000</td>\n",
       "    </tr>\n",
       "    <tr>\n",
       "      <th>75%</th>\n",
       "      <td>58730.500000</td>\n",
       "      <td>0.000000</td>\n",
       "      <td>1.000000</td>\n",
       "      <td>39.000000</td>\n",
       "      <td>4.000000</td>\n",
       "      <td>7.000000</td>\n",
       "      <td>1.000000</td>\n",
       "      <td>0.000000</td>\n",
       "      <td>76.000000</td>\n",
       "    </tr>\n",
       "    <tr>\n",
       "      <th>max</th>\n",
       "      <td>78298.000000</td>\n",
       "      <td>1.000000</td>\n",
       "      <td>10.000000</td>\n",
       "      <td>60.000000</td>\n",
       "      <td>5.000000</td>\n",
       "      <td>37.000000</td>\n",
       "      <td>1.000000</td>\n",
       "      <td>1.000000</td>\n",
       "      <td>99.000000</td>\n",
       "    </tr>\n",
       "  </tbody>\n",
       "</table>\n",
       "</div>"
      ],
      "text/plain": [
       "        employee_id   is_promoted  no_of_trainings           age  \\\n",
       "count  54808.000000  54808.000000     54808.000000  54808.000000   \n",
       "mean   39195.830627      0.085170         1.253011     34.803915   \n",
       "std    22586.581449      0.279137         0.609264      7.660169   \n",
       "min        1.000000      0.000000         1.000000     20.000000   \n",
       "25%    19669.750000      0.000000         1.000000     29.000000   \n",
       "50%    39225.500000      0.000000         1.000000     33.000000   \n",
       "75%    58730.500000      0.000000         1.000000     39.000000   \n",
       "max    78298.000000      1.000000        10.000000     60.000000   \n",
       "\n",
       "       previous_year_rating  length_of_service  KPIs_met >80%   awards_won?  \\\n",
       "count          54808.000000       54808.000000   54808.000000  54808.000000   \n",
       "mean               3.304481           5.865512       0.351974      0.023172   \n",
       "std                1.214770           4.265094       0.477590      0.150450   \n",
       "min                1.000000           1.000000       0.000000      0.000000   \n",
       "25%                3.000000           3.000000       0.000000      0.000000   \n",
       "50%                3.000000           5.000000       0.000000      0.000000   \n",
       "75%                4.000000           7.000000       1.000000      0.000000   \n",
       "max                5.000000          37.000000       1.000000      1.000000   \n",
       "\n",
       "       avg_training_score  \n",
       "count        54808.000000  \n",
       "mean            63.386750  \n",
       "std             13.371559  \n",
       "min             39.000000  \n",
       "25%             51.000000  \n",
       "50%             60.000000  \n",
       "75%             76.000000  \n",
       "max             99.000000  "
      ]
     },
     "execution_count": 17,
     "metadata": {},
     "output_type": "execute_result"
    }
   ],
   "source": [
    "train.describe()"
   ]
  },
  {
   "cell_type": "markdown",
   "id": "d3854413-4009-41ca-b289-0410200656e5",
   "metadata": {},
   "source": [
    "### Use Box plot to identify Outliers"
   ]
  },
  {
   "cell_type": "code",
   "execution_count": 18,
   "id": "97101e2a-7749-40ba-b086-0099e3149c13",
   "metadata": {},
   "outputs": [
    {
     "data": {
      "text/plain": [
       "<AxesSubplot:>"
      ]
     },
     "execution_count": 18,
     "metadata": {},
     "output_type": "execute_result"
    },
    {
     "data": {
      "image/png": "[encoded data removed]",
      "text/plain": [
       "<Figure size 432x288 with 1 Axes>"
      ]
     },
     "metadata": {
      "needs_background": "light"
     },
     "output_type": "display_data"
    }
   ],
   "source": []
  },
  {
   "cell_type": "markdown",
   "id": "fab47bf8-40b3-4e12-bc2d-39343bb3b0aa",
   "metadata": {},
   "source": [
    "### Calculate Upper and Lower Whisker"
   ]
  },
  {
   "cell_type": "markdown",
   "id": "50844d7c-8855-4c61-9e9e-428a4494ca95",
   "metadata": {},
   "source": [
    "![](../images/IQR_Plot.png)"
   ]
  },
  {
   "cell_type": "code",
   "execution_count": 19,
   "id": "a24c5559-1da4-4657-9b32-f3567b225278",
   "metadata": {},
   "outputs": [
    {
     "name": "stdout",
     "output_type": "stream",
     "text": [
      "29.0\n",
      "39.0\n"
     ]
    }
   ],
   "source": [
    "# Calculate Q1 and Q3\n",
    "Q1 = \n",
    "Q3 = \n",
    "\n",
    "print(Q1)\n",
    "print(Q3)"
   ]
  },
  {
   "cell_type": "code",
   "execution_count": 20,
   "id": "4e872a80-5439-4c8d-ad11-101fbdd65a15",
   "metadata": {},
   "outputs": [
    {
     "name": "stdout",
     "output_type": "stream",
     "text": [
      "10.0\n"
     ]
    }
   ],
   "source": [
    "# Calculate IQR\n",
    "IQR = \n",
    "\n",
    "print(IQR)"
   ]
  },
  {
   "cell_type": "code",
   "execution_count": 21,
   "id": "c3746465-aff9-47c7-b6f7-7d968d7b5ad6",
   "metadata": {},
   "outputs": [
    {
     "name": "stdout",
     "output_type": "stream",
     "text": [
      "14.0\n",
      "54.0\n"
     ]
    }
   ],
   "source": [
    "lower_whisker = \n",
    "upper_whisker = \n",
    "\n",
    "print(lower_whisker)\n",
    "print(upper_whisker)"
   ]
  },
  {
   "cell_type": "markdown",
   "id": "dd4ec6b7-9157-4dfe-b9b9-9319a7bf6ff0",
   "metadata": {},
   "source": [
    "### Treat Column\n",
    "- Replace with Upper and Lower Whisker\n",
    "- Replace with Mean/Median/Mode\n",
    "\n",
    "Use - apply(lambda x : <strategy> if x >= <strategy> else x)"
   ]
  },
  {
   "cell_type": "code",
   "execution_count": 22,
   "id": "f653fa9b-dbd4-4799-b6dd-2ea02094cd08",
   "metadata": {},
   "outputs": [],
   "source": []
  },
  {
   "cell_type": "markdown",
   "id": "99df466e-cee9-44dc-b5fa-226b842ed9c2",
   "metadata": {},
   "source": [
    "### Re Plot to check Outliers"
   ]
  },
  {
   "cell_type": "code",
   "execution_count": 23,
   "id": "46511447-91e1-4ddf-9330-5b4f36fc6e0a",
   "metadata": {},
   "outputs": [
    {
     "data": {
      "text/plain": [
       "<AxesSubplot:>"
      ]
     },
     "execution_count": 23,
     "metadata": {},
     "output_type": "execute_result"
    },
    {
     "data": {
      "image/png": "[encoded data removed]",
      "text/plain": [
       "<Figure size 432x288 with 1 Axes>"
      ]
     },
     "metadata": {
      "needs_background": "light"
     },
     "output_type": "display_data"
    }
   ],
   "source": [
    "train['age'].plot.box()"
   ]
  },
  {
   "cell_type": "code",
   "execution_count": null,
   "id": "c9e8fb3f-7039-465a-8d73-379e6c2867f0",
   "metadata": {},
   "outputs": [],
   "source": []
  }
 ],
 "metadata": {
  "kernelspec": {
   "display_name": "Python 3",
   "language": "python",
   "name": "python3"
  },
  "language_info": {
   "codemirror_mode": {
    "name": "ipython",
    "version": 3
   },
   "file_extension": ".py",
   "mimetype": "text/x-python",
   "name": "python",
   "nbconvert_exporter": "python",
   "pygments_lexer": "ipython3",
   "version": "3.8.8"
  },
  "toc-autonumbering": true
 },
 "nbformat": 4,
 "nbformat_minor": 5
}
